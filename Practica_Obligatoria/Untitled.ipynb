{
 "cells": [
  {
   "cell_type": "markdown",
   "id": "bb18a37c-c7f7-46a2-986d-adc433d1fe31",
   "metadata": {},
   "source": [
    "# TOOLBOX"
   ]
  },
  {
   "cell_type": "markdown",
   "id": "b34d504d-426a-49ad-8647-66632578428a",
   "metadata": {},
   "source": [
    "## Teoría"
   ]
  },
  {
   "cell_type": "markdown",
   "id": "e1fe753c-e6c4-4978-a99b-97b6e6049cd1",
   "metadata": {},
   "source": [
    "## Utilidades"
   ]
  },
  {
   "cell_type": "markdown",
   "id": "02b746e7-ab17-4261-8b0a-c57bf70e3cd0",
   "metadata": {},
   "source": [
    "## Cosas Curiosas"
   ]
  },
  {
   "cell_type": "markdown",
   "id": "6c4de628-76a9-432b-8fdf-76a569130569",
   "metadata": {},
   "source": [
    "## Preguntas pendientes"
   ]
  },
  {
   "cell_type": "code",
   "execution_count": null,
   "id": "670f95d8-fd5e-45db-b753-ae337e65cefd",
   "metadata": {},
   "outputs": [],
   "source": []
  }
 ],
 "metadata": {
  "kernelspec": {
   "display_name": "Python 3 (ipykernel)",
   "language": "python",
   "name": "python3"
  },
  "language_info": {
   "codemirror_mode": {
    "name": "ipython",
    "version": 3
   },
   "file_extension": ".py",
   "mimetype": "text/x-python",
   "name": "python",
   "nbconvert_exporter": "python",
   "pygments_lexer": "ipython3",
   "version": "3.11.6"
  }
 },
 "nbformat": 4,
 "nbformat_minor": 5
}
